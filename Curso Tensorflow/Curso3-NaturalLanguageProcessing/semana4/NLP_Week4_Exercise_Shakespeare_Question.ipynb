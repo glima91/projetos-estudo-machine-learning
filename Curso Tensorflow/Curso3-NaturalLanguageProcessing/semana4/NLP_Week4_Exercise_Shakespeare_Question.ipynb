{
  "nbformat": 4,
  "nbformat_minor": 0,
  "metadata": {
    "accelerator": "GPU",
    "colab": {
      "name": "NLP_Week4_Exercise_Shakespeare_Question.ipynb",
      "provenance": [],
      "toc_visible": true
    },
    "kernelspec": {
      "display_name": "Python 3",
      "name": "python3"
    }
  },
  "cells": [
    {
      "cell_type": "code",
      "metadata": {
        "id": "zX4Kg8DUTKWO"
      },
      "source": [
        "#@title Licensed under the Apache License, Version 2.0 (the \"License\");\n",
        "# you may not use this file except in compliance with the License.\n",
        "# You may obtain a copy of the License at\n",
        "#\n",
        "# https://www.apache.org/licenses/LICENSE-2.0\n",
        "#\n",
        "# Unless required by applicable law or agreed to in writing, software\n",
        "# distributed under the License is distributed on an \"AS IS\" BASIS,\n",
        "# WITHOUT WARRANTIES OR CONDITIONS OF ANY KIND, either express or implied.\n",
        "# See the License for the specific language governing permissions and\n",
        "# limitations under the License."
      ],
      "execution_count": null,
      "outputs": []
    },
    {
      "cell_type": "code",
      "metadata": {
        "id": "BOwsuGQQY9OL"
      },
      "source": [
        "from tensorflow.keras.preprocessing.sequence import pad_sequences\n",
        "from tensorflow.keras.layers import Embedding, LSTM, Dense, Dropout, Bidirectional\n",
        "from tensorflow.keras.preprocessing.text import Tokenizer\n",
        "from tensorflow.keras.models import Sequential\n",
        "from tensorflow.keras.optimizers import Adam\n",
        "### YOUR CODE HERE\n",
        "# Figure out how to import regularizers\n",
        "from tensorflow.keras.regularizers import L2\n",
        "###\n",
        "import tensorflow.keras.utils as ku \n",
        "import numpy as np "
      ],
      "execution_count": 2,
      "outputs": []
    },
    {
      "cell_type": "code",
      "metadata": {
        "id": "PRnDnCW-Z7qv",
        "outputId": "89f5190b-e7b8-4904-e6e9-96e8bca93a45",
        "colab": {
          "base_uri": "https://localhost:8080/"
        }
      },
      "source": [
        "tokenizer = Tokenizer()\n",
        "!wget --no-check-certificate \\\n",
        "    https://storage.googleapis.com/laurencemoroney-blog.appspot.com/sonnets.txt \\\n",
        "    -O /tmp/sonnets.txt\n",
        "data = open('/tmp/sonnets.txt').read()\n",
        "\n",
        "corpus = data.lower().split(\"\\n\")\n",
        "\n",
        "\n",
        "tokenizer.fit_on_texts(corpus)\n",
        "total_words = len(tokenizer.word_index) + 1\n",
        "\n",
        "# create input sequences using list of tokens\n",
        "input_sequences = []\n",
        "for line in corpus:\n",
        "\ttoken_list = tokenizer.texts_to_sequences([line])[0]\n",
        "\tfor i in range(1, len(token_list)):\n",
        "\t\tn_gram_sequence = token_list[:i+1]\n",
        "\t\tinput_sequences.append(n_gram_sequence)\n",
        "\n",
        "\n",
        "# pad sequences \n",
        "max_sequence_len = max([len(x) for x in input_sequences])\n",
        "input_sequences = np.array(pad_sequences(input_sequences, maxlen=max_sequence_len, padding='pre'))\n",
        "\n",
        "# create predictors and label\n",
        "predictors, label = input_sequences[:,:-1],input_sequences[:,-1]\n",
        "\n",
        "label = ku.to_categorical(label, num_classes=total_words)"
      ],
      "execution_count": 3,
      "outputs": [
        {
          "output_type": "stream",
          "text": [
            "--2020-10-07 19:06:23--  https://storage.googleapis.com/laurencemoroney-blog.appspot.com/sonnets.txt\n",
            "Resolving storage.googleapis.com (storage.googleapis.com)... 74.125.143.128, 108.177.119.128, 108.177.126.128, ...\n",
            "Connecting to storage.googleapis.com (storage.googleapis.com)|74.125.143.128|:443... connected.\n",
            "HTTP request sent, awaiting response... 200 OK\n",
            "Length: 93578 (91K) [text/plain]\n",
            "Saving to: ‘/tmp/sonnets.txt’\n",
            "\n",
            "/tmp/sonnets.txt    100%[===================>]  91.38K  --.-KB/s    in 0.001s  \n",
            "\n",
            "2020-10-07 19:06:24 (109 MB/s) - ‘/tmp/sonnets.txt’ saved [93578/93578]\n",
            "\n"
          ],
          "name": "stdout"
        }
      ]
    },
    {
      "cell_type": "code",
      "metadata": {
        "id": "3R8__UL1dciB",
        "outputId": "cd91c3ee-72b9-49dd-a7bc-c4535fb74830",
        "colab": {
          "base_uri": "https://localhost:8080/"
        }
      },
      "source": [
        "input_sequences[0:5]"
      ],
      "execution_count": 6,
      "outputs": [
        {
          "output_type": "execute_result",
          "data": {
            "text/plain": [
              "array([[  0,   0,   0,   0,   0,   0,   0,   0,   0,  34, 417],\n",
              "       [  0,   0,   0,   0,   0,   0,   0,   0,  34, 417, 877],\n",
              "       [  0,   0,   0,   0,   0,   0,   0,  34, 417, 877, 166],\n",
              "       [  0,   0,   0,   0,   0,   0,  34, 417, 877, 166, 213],\n",
              "       [  0,   0,   0,   0,   0,  34, 417, 877, 166, 213, 517]],\n",
              "      dtype=int32)"
            ]
          },
          "metadata": {
            "tags": []
          },
          "execution_count": 6
        }
      ]
    },
    {
      "cell_type": "code",
      "metadata": {
        "id": "__-Spq-3dn8T",
        "outputId": "cdc1d652-071d-43d5-f827-36707161ac27",
        "colab": {
          "base_uri": "https://localhost:8080/"
        }
      },
      "source": [
        "label[:5]"
      ],
      "execution_count": 7,
      "outputs": [
        {
          "output_type": "execute_result",
          "data": {
            "text/plain": [
              "array([[0., 0., 0., ..., 0., 0., 0.],\n",
              "       [0., 0., 0., ..., 0., 0., 0.],\n",
              "       [0., 0., 0., ..., 0., 0., 0.],\n",
              "       [0., 0., 0., ..., 0., 0., 0.],\n",
              "       [0., 0., 0., ..., 0., 0., 0.]], dtype=float32)"
            ]
          },
          "metadata": {
            "tags": []
          },
          "execution_count": 7
        }
      ]
    },
    {
      "cell_type": "code",
      "metadata": {
        "id": "w9vH8Y59ajYL",
        "outputId": "813a6f12-de5a-44b9-bd0c-dc811ffa5460",
        "colab": {
          "base_uri": "https://localhost:8080/"
        }
      },
      "source": [
        "model = Sequential()\n",
        "model.add(Embedding(total_words,64, input_length=max_sequence_len-1))\n",
        "model.add(Bidirectional(LSTM(40, return_sequences=True)))\n",
        "model.add(Dropout(0.5))\n",
        "model.add(Bidirectional(LSTM(40)))\n",
        "model.add(Dense(512, activation='relu'))\n",
        "model.add(Dense(total_words, activation='softmax'))\n",
        "# Pick an optimizer\n",
        "model.compile(loss='categorical_crossentropy', optimizer='adam', metrics=['accuracy'])\n",
        "print(model.summary())\n"
      ],
      "execution_count": 17,
      "outputs": [
        {
          "output_type": "stream",
          "text": [
            "Model: \"sequential_3\"\n",
            "_________________________________________________________________\n",
            "Layer (type)                 Output Shape              Param #   \n",
            "=================================================================\n",
            "embedding_3 (Embedding)      (None, 10, 64)            205504    \n",
            "_________________________________________________________________\n",
            "bidirectional_6 (Bidirection (None, 10, 80)            33600     \n",
            "_________________________________________________________________\n",
            "dropout_3 (Dropout)          (None, 10, 80)            0         \n",
            "_________________________________________________________________\n",
            "bidirectional_7 (Bidirection (None, 80)                38720     \n",
            "_________________________________________________________________\n",
            "dense_6 (Dense)              (None, 512)               41472     \n",
            "_________________________________________________________________\n",
            "dense_7 (Dense)              (None, 3211)              1647243   \n",
            "=================================================================\n",
            "Total params: 1,966,539\n",
            "Trainable params: 1,966,539\n",
            "Non-trainable params: 0\n",
            "_________________________________________________________________\n",
            "None\n"
          ],
          "name": "stdout"
        }
      ]
    },
    {
      "cell_type": "code",
      "metadata": {
        "id": "AIg2f1HBxqof",
        "outputId": "36c34206-3050-4d94-ec8d-6d7f25d1b565",
        "colab": {
          "base_uri": "https://localhost:8080/"
        }
      },
      "source": [
        " history = model.fit(predictors, label, epochs=100, verbose=1)"
      ],
      "execution_count": 18,
      "outputs": [
        {
          "output_type": "stream",
          "text": [
            "Epoch 1/100\n",
            "484/484 [==============================] - 6s 12ms/step - loss: 6.8720 - accuracy: 0.0203\n",
            "Epoch 2/100\n",
            "484/484 [==============================] - 6s 12ms/step - loss: 6.4965 - accuracy: 0.0250\n",
            "Epoch 3/100\n",
            "484/484 [==============================] - 6s 12ms/step - loss: 6.3226 - accuracy: 0.0333\n",
            "Epoch 4/100\n",
            "484/484 [==============================] - 6s 12ms/step - loss: 6.1946 - accuracy: 0.0356\n",
            "Epoch 5/100\n",
            "484/484 [==============================] - 6s 12ms/step - loss: 6.0491 - accuracy: 0.0385\n",
            "Epoch 6/100\n",
            "484/484 [==============================] - 6s 12ms/step - loss: 5.8791 - accuracy: 0.0430\n",
            "Epoch 7/100\n",
            "484/484 [==============================] - 6s 12ms/step - loss: 5.7196 - accuracy: 0.0482\n",
            "Epoch 8/100\n",
            "484/484 [==============================] - 6s 12ms/step - loss: 5.5553 - accuracy: 0.0537\n",
            "Epoch 9/100\n",
            "484/484 [==============================] - 6s 12ms/step - loss: 5.3882 - accuracy: 0.0597\n",
            "Epoch 10/100\n",
            "484/484 [==============================] - 6s 12ms/step - loss: 5.2210 - accuracy: 0.0693\n",
            "Epoch 11/100\n",
            "484/484 [==============================] - 6s 12ms/step - loss: 5.0513 - accuracy: 0.0766\n",
            "Epoch 12/100\n",
            "484/484 [==============================] - 6s 12ms/step - loss: 4.8738 - accuracy: 0.0845\n",
            "Epoch 13/100\n",
            "484/484 [==============================] - 6s 12ms/step - loss: 4.6908 - accuracy: 0.0947\n",
            "Epoch 14/100\n",
            "484/484 [==============================] - 6s 12ms/step - loss: 4.5075 - accuracy: 0.1085\n",
            "Epoch 15/100\n",
            "484/484 [==============================] - 6s 12ms/step - loss: 4.3290 - accuracy: 0.1194\n",
            "Epoch 16/100\n",
            "484/484 [==============================] - 5s 11ms/step - loss: 4.1646 - accuracy: 0.1366\n",
            "Epoch 17/100\n",
            "484/484 [==============================] - 6s 11ms/step - loss: 3.9836 - accuracy: 0.1548\n",
            "Epoch 18/100\n",
            "484/484 [==============================] - 6s 12ms/step - loss: 3.8194 - accuracy: 0.1812\n",
            "Epoch 19/100\n",
            "484/484 [==============================] - 6s 12ms/step - loss: 3.6550 - accuracy: 0.2038\n",
            "Epoch 20/100\n",
            "484/484 [==============================] - 6s 12ms/step - loss: 3.5122 - accuracy: 0.2244\n",
            "Epoch 21/100\n",
            "484/484 [==============================] - 6s 11ms/step - loss: 3.3549 - accuracy: 0.2484\n",
            "Epoch 22/100\n",
            "484/484 [==============================] - 6s 12ms/step - loss: 3.2247 - accuracy: 0.2683\n",
            "Epoch 23/100\n",
            "484/484 [==============================] - 6s 12ms/step - loss: 3.0991 - accuracy: 0.2916\n",
            "Epoch 24/100\n",
            "484/484 [==============================] - 6s 12ms/step - loss: 2.9657 - accuracy: 0.3104\n",
            "Epoch 25/100\n",
            "484/484 [==============================] - 6s 12ms/step - loss: 2.8547 - accuracy: 0.3342\n",
            "Epoch 26/100\n",
            "484/484 [==============================] - 6s 12ms/step - loss: 2.7524 - accuracy: 0.3509\n",
            "Epoch 27/100\n",
            "484/484 [==============================] - 6s 12ms/step - loss: 2.6586 - accuracy: 0.3663\n",
            "Epoch 28/100\n",
            "484/484 [==============================] - 6s 12ms/step - loss: 2.5615 - accuracy: 0.3849\n",
            "Epoch 29/100\n",
            "484/484 [==============================] - 6s 12ms/step - loss: 2.4714 - accuracy: 0.4056\n",
            "Epoch 30/100\n",
            "484/484 [==============================] - 6s 12ms/step - loss: 2.3908 - accuracy: 0.4182\n",
            "Epoch 31/100\n",
            "484/484 [==============================] - 6s 12ms/step - loss: 2.3123 - accuracy: 0.4382\n",
            "Epoch 32/100\n",
            "484/484 [==============================] - 6s 11ms/step - loss: 2.2287 - accuracy: 0.4526\n",
            "Epoch 33/100\n",
            "484/484 [==============================] - 6s 12ms/step - loss: 2.1453 - accuracy: 0.4730\n",
            "Epoch 34/100\n",
            "484/484 [==============================] - 6s 12ms/step - loss: 2.0708 - accuracy: 0.4857\n",
            "Epoch 35/100\n",
            "484/484 [==============================] - 6s 12ms/step - loss: 2.0245 - accuracy: 0.4955\n",
            "Epoch 36/100\n",
            "484/484 [==============================] - 6s 12ms/step - loss: 1.9613 - accuracy: 0.5074\n",
            "Epoch 37/100\n",
            "484/484 [==============================] - 6s 12ms/step - loss: 1.8944 - accuracy: 0.5271\n",
            "Epoch 38/100\n",
            "484/484 [==============================] - 6s 12ms/step - loss: 1.8425 - accuracy: 0.5328\n",
            "Epoch 39/100\n",
            "484/484 [==============================] - 5s 11ms/step - loss: 1.7938 - accuracy: 0.5460\n",
            "Epoch 40/100\n",
            "484/484 [==============================] - 6s 12ms/step - loss: 1.7425 - accuracy: 0.5587\n",
            "Epoch 41/100\n",
            "484/484 [==============================] - 5s 11ms/step - loss: 1.6928 - accuracy: 0.5722\n",
            "Epoch 42/100\n",
            "484/484 [==============================] - 6s 12ms/step - loss: 1.6530 - accuracy: 0.5779\n",
            "Epoch 43/100\n",
            "484/484 [==============================] - 6s 12ms/step - loss: 1.6034 - accuracy: 0.5826\n",
            "Epoch 44/100\n",
            "484/484 [==============================] - 6s 12ms/step - loss: 1.5653 - accuracy: 0.6003\n",
            "Epoch 45/100\n",
            "484/484 [==============================] - 6s 12ms/step - loss: 1.5423 - accuracy: 0.6017\n",
            "Epoch 46/100\n",
            "484/484 [==============================] - 6s 11ms/step - loss: 1.4879 - accuracy: 0.6176\n",
            "Epoch 47/100\n",
            "484/484 [==============================] - 6s 12ms/step - loss: 1.4488 - accuracy: 0.6275\n",
            "Epoch 48/100\n",
            "484/484 [==============================] - 6s 12ms/step - loss: 1.4233 - accuracy: 0.6301\n",
            "Epoch 49/100\n",
            "484/484 [==============================] - 6s 12ms/step - loss: 1.3816 - accuracy: 0.6402\n",
            "Epoch 50/100\n",
            "484/484 [==============================] - 6s 12ms/step - loss: 1.3595 - accuracy: 0.6479\n",
            "Epoch 51/100\n",
            "484/484 [==============================] - 6s 11ms/step - loss: 1.3373 - accuracy: 0.6527\n",
            "Epoch 52/100\n",
            "484/484 [==============================] - 6s 12ms/step - loss: 1.3025 - accuracy: 0.6612\n",
            "Epoch 53/100\n",
            "484/484 [==============================] - 6s 12ms/step - loss: 1.2638 - accuracy: 0.6720\n",
            "Epoch 54/100\n",
            "484/484 [==============================] - 5s 11ms/step - loss: 1.2348 - accuracy: 0.6775\n",
            "Epoch 55/100\n",
            "484/484 [==============================] - 6s 12ms/step - loss: 1.2330 - accuracy: 0.6745\n",
            "Epoch 56/100\n",
            "484/484 [==============================] - 6s 12ms/step - loss: 1.2053 - accuracy: 0.6834\n",
            "Epoch 57/100\n",
            "484/484 [==============================] - 6s 12ms/step - loss: 1.1823 - accuracy: 0.6885\n",
            "Epoch 58/100\n",
            "484/484 [==============================] - 6s 12ms/step - loss: 1.1488 - accuracy: 0.6975\n",
            "Epoch 59/100\n",
            "484/484 [==============================] - 6s 12ms/step - loss: 1.1507 - accuracy: 0.6942\n",
            "Epoch 60/100\n",
            "484/484 [==============================] - 6s 12ms/step - loss: 1.1132 - accuracy: 0.7062\n",
            "Epoch 61/100\n",
            "484/484 [==============================] - 6s 11ms/step - loss: 1.0995 - accuracy: 0.7094\n",
            "Epoch 62/100\n",
            "484/484 [==============================] - 6s 12ms/step - loss: 1.0623 - accuracy: 0.7198\n",
            "Epoch 63/100\n",
            "484/484 [==============================] - 6s 12ms/step - loss: 1.0630 - accuracy: 0.7182\n",
            "Epoch 64/100\n",
            "484/484 [==============================] - 6s 12ms/step - loss: 1.0500 - accuracy: 0.7196\n",
            "Epoch 65/100\n",
            "484/484 [==============================] - 6s 12ms/step - loss: 1.0110 - accuracy: 0.7325\n",
            "Epoch 66/100\n",
            "484/484 [==============================] - 6s 12ms/step - loss: 1.0228 - accuracy: 0.7282\n",
            "Epoch 67/100\n",
            "484/484 [==============================] - 6s 12ms/step - loss: 1.0011 - accuracy: 0.7337\n",
            "Epoch 68/100\n",
            "484/484 [==============================] - 6s 12ms/step - loss: 0.9797 - accuracy: 0.7407\n",
            "Epoch 69/100\n",
            "484/484 [==============================] - 6s 13ms/step - loss: 0.9827 - accuracy: 0.7381\n",
            "Epoch 70/100\n",
            "484/484 [==============================] - 6s 12ms/step - loss: 0.9757 - accuracy: 0.7386\n",
            "Epoch 71/100\n",
            "484/484 [==============================] - 6s 12ms/step - loss: 0.9417 - accuracy: 0.7452\n",
            "Epoch 72/100\n",
            "484/484 [==============================] - 6s 12ms/step - loss: 0.9255 - accuracy: 0.7537\n",
            "Epoch 73/100\n",
            "484/484 [==============================] - 6s 12ms/step - loss: 0.9263 - accuracy: 0.7540\n",
            "Epoch 74/100\n",
            "484/484 [==============================] - 6s 12ms/step - loss: 0.9185 - accuracy: 0.7527\n",
            "Epoch 75/100\n",
            "484/484 [==============================] - 6s 12ms/step - loss: 0.9148 - accuracy: 0.7535\n",
            "Epoch 76/100\n",
            "484/484 [==============================] - 6s 12ms/step - loss: 0.8934 - accuracy: 0.7597\n",
            "Epoch 77/100\n",
            "484/484 [==============================] - 6s 12ms/step - loss: 0.8789 - accuracy: 0.7654\n",
            "Epoch 78/100\n",
            "484/484 [==============================] - 6s 12ms/step - loss: 0.8873 - accuracy: 0.7603\n",
            "Epoch 79/100\n",
            "484/484 [==============================] - 6s 12ms/step - loss: 0.8653 - accuracy: 0.7683\n",
            "Epoch 80/100\n",
            "484/484 [==============================] - 6s 12ms/step - loss: 0.8658 - accuracy: 0.7683\n",
            "Epoch 81/100\n",
            "484/484 [==============================] - 6s 12ms/step - loss: 0.8535 - accuracy: 0.7690\n",
            "Epoch 82/100\n",
            "484/484 [==============================] - 6s 12ms/step - loss: 0.8348 - accuracy: 0.7736\n",
            "Epoch 83/100\n",
            "484/484 [==============================] - 6s 12ms/step - loss: 0.8380 - accuracy: 0.7753\n",
            "Epoch 84/100\n",
            "484/484 [==============================] - 6s 12ms/step - loss: 0.8223 - accuracy: 0.7778\n",
            "Epoch 85/100\n",
            "484/484 [==============================] - 6s 12ms/step - loss: 0.8151 - accuracy: 0.7833\n",
            "Epoch 86/100\n",
            "484/484 [==============================] - 6s 12ms/step - loss: 0.8179 - accuracy: 0.7790\n",
            "Epoch 87/100\n",
            "484/484 [==============================] - 5s 11ms/step - loss: 0.8079 - accuracy: 0.7815\n",
            "Epoch 88/100\n",
            "484/484 [==============================] - 6s 11ms/step - loss: 0.8029 - accuracy: 0.7818\n",
            "Epoch 89/100\n",
            "484/484 [==============================] - 6s 12ms/step - loss: 0.7894 - accuracy: 0.7862\n",
            "Epoch 90/100\n",
            "484/484 [==============================] - 6s 12ms/step - loss: 0.7894 - accuracy: 0.7852\n",
            "Epoch 91/100\n",
            "484/484 [==============================] - 6s 12ms/step - loss: 0.8019 - accuracy: 0.7853\n",
            "Epoch 92/100\n",
            "484/484 [==============================] - 6s 12ms/step - loss: 0.7833 - accuracy: 0.7859\n",
            "Epoch 93/100\n",
            "484/484 [==============================] - 6s 12ms/step - loss: 0.7719 - accuracy: 0.7905\n",
            "Epoch 94/100\n",
            "484/484 [==============================] - 6s 12ms/step - loss: 0.7619 - accuracy: 0.7925\n",
            "Epoch 95/100\n",
            "484/484 [==============================] - 6s 12ms/step - loss: 0.7736 - accuracy: 0.7887\n",
            "Epoch 96/100\n",
            "484/484 [==============================] - 6s 12ms/step - loss: 0.7555 - accuracy: 0.7927\n",
            "Epoch 97/100\n",
            "484/484 [==============================] - 6s 12ms/step - loss: 0.7537 - accuracy: 0.7926\n",
            "Epoch 98/100\n",
            "484/484 [==============================] - 6s 12ms/step - loss: 0.7523 - accuracy: 0.7938\n",
            "Epoch 99/100\n",
            "484/484 [==============================] - 6s 11ms/step - loss: 0.7484 - accuracy: 0.7941\n",
            "Epoch 100/100\n",
            "484/484 [==============================] - 6s 12ms/step - loss: 0.7409 - accuracy: 0.7971\n"
          ],
          "name": "stdout"
        }
      ]
    },
    {
      "cell_type": "code",
      "metadata": {
        "id": "1fXTEO3GJ282",
        "outputId": "435dd1f8-2dd0-4317-e181-000fb71cb8f7",
        "colab": {
          "base_uri": "https://localhost:8080/",
          "height": 545
        }
      },
      "source": [
        "import matplotlib.pyplot as plt\n",
        "acc = history.history['accuracy']\n",
        "loss = history.history['loss']\n",
        "\n",
        "epochs = range(len(acc))\n",
        "\n",
        "plt.plot(epochs, acc, 'b', label='Training accuracy')\n",
        "plt.title('Training accuracy')\n",
        "\n",
        "plt.figure()\n",
        "\n",
        "plt.plot(epochs, loss, 'b', label='Training Loss')\n",
        "plt.title('Training loss')\n",
        "plt.legend()\n",
        "\n",
        "plt.show()"
      ],
      "execution_count": 19,
      "outputs": [
        {
          "output_type": "display_data",
          "data": {
            "image/png": "[encoded data removed]",
            "text/plain": [
              "<Figure size 432x288 with 1 Axes>"
            ]
          },
          "metadata": {
            "tags": [],
            "needs_background": "light"
          }
        },
        {
          "output_type": "display_data",
          "data": {
            "image/png": "[encoded data removed]",
            "text/plain": [
              "<Figure size 432x288 with 1 Axes>"
            ]
          },
          "metadata": {
            "tags": [],
            "needs_background": "light"
          }
        }
      ]
    },
    {
      "cell_type": "code",
      "metadata": {
        "id": "6Vc6PHgxa6Hm",
        "outputId": "28dfffe4-bbe4-4788-ec58-051fb1d218d1",
        "colab": {
          "base_uri": "https://localhost:8080/"
        }
      },
      "source": [
        "seed_text = \"Help me Obi Wan Kenobi, you're my only hope\"\n",
        "next_words = 100\n",
        "  \n",
        "for _ in range(next_words):\n",
        "\ttoken_list = tokenizer.texts_to_sequences([seed_text])[0]\n",
        "\ttoken_list = pad_sequences([token_list], maxlen=max_sequence_len-1, padding='pre')\n",
        "\tpredicted = model.predict_classes(token_list, verbose=0)\n",
        "\toutput_word = \"\"\n",
        "\tfor word, index in tokenizer.word_index.items():\n",
        "\t\tif index == predicted:\n",
        "\t\t\toutput_word = word\n",
        "\t\t\tbreak\n",
        "\tseed_text += \" \" + output_word\n",
        "print(seed_text)"
      ],
      "execution_count": 20,
      "outputs": [
        {
          "output_type": "stream",
          "text": [
            "Help me Obi Wan Kenobi, you're my only hope to gentle delight my heart ' torn torn doth dwell my heart ' new i fall in me heart the cheer by eyes it seen lie to thy heart of kings thine 'will ' ' sweet view not live thy state enjoys it dear friend ' lie on my moan me my mind with brow doth doth lie on my mind not kings see so heart so the worst of 'will ' fair for thee my mind of bring to mend thee to truth and gone days in me store me day oppress'd me strange dearer fine herd of of\n"
          ],
          "name": "stdout"
        }
      ]
    }
  ]
}