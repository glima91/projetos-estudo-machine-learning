{
 "cells": [
  {
   "cell_type": "code",
   "execution_count": null,
   "metadata": {
    "id": "zX4Kg8DUTKWO"
   },
   "outputs": [],
   "source": [
    "#@title Licensed under the Apache License, Version 2.0 (the \"License\");\n",
    "# you may not use this file except in compliance with the License.\n",
    "# You may obtain a copy of the License at\n",
    "#\n",
    "# https://www.apache.org/licenses/LICENSE-2.0\n",
    "#\n",
    "# Unless required by applicable law or agreed to in writing, software\n",
    "# distributed under the License is distributed on an \"AS IS\" BASIS,\n",
    "# WITHOUT WARRANTIES OR CONDITIONS OF ANY KIND, either express or implied.\n",
    "# See the License for the specific language governing permissions and\n",
    "# limitations under the License."
   ]
  },
  {
   "cell_type": "markdown",
   "metadata": {
    "id": "view-in-github"
   },
   "source": [
    "<a href=\"https://colab.research.google.com/github/lmoroney/dlaicourse/blob/master/TensorFlow%20In%20Practice/Course%203%20-%20NLP/Course%203%20-%20Week%202%20-%20Lesson%202.ipynb\" target=\"_parent\"><img src=\"https://colab.research.google.com/assets/colab-badge.svg\" alt=\"Open In Colab\"/></a>"
   ]
  },
  {
   "cell_type": "code",
   "execution_count": 1,
   "metadata": {
    "id": "4gs9htvM7n_x"
   },
   "outputs": [],
   "source": [
    "# Run this to ensure TensorFlow 2.x is used\n",
    "try:\n",
    "  # %tensorflow_version only exists in Colab.\n",
    "  %tensorflow_version 2.x\n",
    "except Exception:\n",
    "  pass"
   ]
  },
  {
   "cell_type": "code",
   "execution_count": 2,
   "metadata": {
    "id": "XYYDvoskkE61"
   },
   "outputs": [],
   "source": [
    "import json\n",
    "import tensorflow as tf\n",
    "\n",
    "from tensorflow.keras.preprocessing.text import Tokenizer\n",
    "from tensorflow.keras.preprocessing.sequence import pad_sequences"
   ]
  },
  {
   "cell_type": "code",
   "execution_count": 98,
   "metadata": {
    "id": "0eJSTTYnkJQd"
   },
   "outputs": [],
   "source": [
    "vocab_size = 10000\n",
    "embedding_dim = 32\n",
    "max_length = 100\n",
    "trunc_type='post'\n",
    "padding_type='post'\n",
    "oov_tok = \"<OOV>\"\n",
    "training_size = 20000\n"
   ]
  },
  {
   "cell_type": "code",
   "execution_count": 99,
   "metadata": {
    "colab": {
     "base_uri": "https://localhost:8080/",
     "height": 217
    },
    "id": "BQVuQrZNkPn9",
    "outputId": "10aba7ce-0593-408b-ef04-1272008a7b22"
   },
   "outputs": [
    {
     "name": "stdout",
     "output_type": "stream",
     "text": [
      "--2020-09-29 16:51:33--  https://storage.googleapis.com/laurencemoroney-blog.appspot.com/sarcasm.json\n",
      "Resolving storage.googleapis.com (storage.googleapis.com)... 74.125.133.128, 74.125.140.128, 108.177.15.128, ...\n",
      "Connecting to storage.googleapis.com (storage.googleapis.com)|74.125.133.128|:443... connected.\n",
      "HTTP request sent, awaiting response... 200 OK\n",
      "Length: 5643545 (5.4M) [application/json]\n",
      "Saving to: ‘/tmp/sarcasm.json’\n",
      "\n",
      "\r",
      "/tmp/sarcasm.json     0%[                    ]       0  --.-KB/s               \r",
      "/tmp/sarcasm.json   100%[===================>]   5.38M  --.-KB/s    in 0.02s   \n",
      "\n",
      "2020-09-29 16:51:33 (218 MB/s) - ‘/tmp/sarcasm.json’ saved [5643545/5643545]\n",
      "\n"
     ]
    }
   ],
   "source": [
    "!wget --no-check-certificate \\\n",
    "    https://storage.googleapis.com/laurencemoroney-blog.appspot.com/sarcasm.json \\\n",
    "    -O /tmp/sarcasm.json\n"
   ]
  },
  {
   "cell_type": "code",
   "execution_count": 100,
   "metadata": {
    "id": "oaLaaqhNkUPd"
   },
   "outputs": [],
   "source": [
    "with open(\"/tmp/sarcasm.json\", 'r') as f:\n",
    "    datastore = json.load(f)\n",
    "\n",
    "sentences = []\n",
    "labels = []\n",
    "\n",
    "for item in datastore:\n",
    "    sentences.append(item['headline'])\n",
    "    labels.append(item['is_sarcastic'])"
   ]
  },
  {
   "cell_type": "code",
   "execution_count": 101,
   "metadata": {
    "id": "S1sD-7v0kYWk"
   },
   "outputs": [],
   "source": [
    "training_sentences = sentences[0:training_size]\n",
    "testing_sentences = sentences[training_size:]\n",
    "training_labels = labels[0:training_size]\n",
    "testing_labels = labels[training_size:]"
   ]
  },
  {
   "cell_type": "code",
   "execution_count": 102,
   "metadata": {
    "id": "3u8UB0MCkZ5N"
   },
   "outputs": [],
   "source": [
    "tokenizer = Tokenizer(num_words=vocab_size, oov_token=oov_tok)\n",
    "tokenizer.fit_on_texts(training_sentences)\n",
    "\n",
    "word_index = tokenizer.word_index\n",
    "\n",
    "training_sequences = tokenizer.texts_to_sequences(training_sentences)\n",
    "training_padded = pad_sequences(training_sequences, maxlen=max_length, padding=padding_type, truncating=trunc_type)\n",
    "\n",
    "testing_sequences = tokenizer.texts_to_sequences(testing_sentences)\n",
    "testing_padded = pad_sequences(testing_sequences, maxlen=max_length, padding=padding_type, truncating=trunc_type)"
   ]
  },
  {
   "cell_type": "code",
   "execution_count": 103,
   "metadata": {
    "id": "GrAlWBKf99Ya"
   },
   "outputs": [],
   "source": [
    "# Need this block to get it to work with TensorFlow 2.x\n",
    "import numpy as np\n",
    "training_padded = np.array(training_padded)\n",
    "training_labels = np.array(training_labels)\n",
    "testing_padded = np.array(testing_padded)\n",
    "testing_labels = np.array(testing_labels)"
   ]
  },
  {
   "cell_type": "code",
   "execution_count": 104,
   "metadata": {
    "id": "FufaT4vlkiDE"
   },
   "outputs": [],
   "source": [
    "model = tf.keras.Sequential([\n",
    "    tf.keras.layers.Embedding(vocab_size, embedding_dim, input_length=max_length),\n",
    "    tf.keras.layers.GlobalAveragePooling1D(),\n",
    "    tf.keras.layers.Dense(24, activation='relu'),\n",
    "    tf.keras.layers.Dense(1, activation='sigmoid')\n",
    "])\n",
    "model.compile(loss='binary_crossentropy',optimizer='adam',metrics=['accuracy'])"
   ]
  },
  {
   "cell_type": "code",
   "execution_count": 105,
   "metadata": {
    "colab": {
     "base_uri": "https://localhost:8080/",
     "height": 308
    },
    "id": "XfDt1hmYkiys",
    "outputId": "eb7e2a12-5fc8-457e-88ed-1ad505e83c32"
   },
   "outputs": [
    {
     "name": "stdout",
     "output_type": "stream",
     "text": [
      "Model: \"sequential_10\"\n",
      "_________________________________________________________________\n",
      "Layer (type)                 Output Shape              Param #   \n",
      "=================================================================\n",
      "embedding_10 (Embedding)     (None, 30, 32)            320000    \n",
      "_________________________________________________________________\n",
      "global_average_pooling1d_10  (None, 32)                0         \n",
      "_________________________________________________________________\n",
      "dense_20 (Dense)             (None, 24)                792       \n",
      "_________________________________________________________________\n",
      "dense_21 (Dense)             (None, 1)                 25        \n",
      "=================================================================\n",
      "Total params: 320,817\n",
      "Trainable params: 320,817\n",
      "Non-trainable params: 0\n",
      "_________________________________________________________________\n"
     ]
    }
   ],
   "source": [
    "model.summary()\n"
   ]
  },
  {
   "cell_type": "code",
   "execution_count": 106,
   "metadata": {
    "colab": {
     "base_uri": "https://localhost:8080/",
     "height": 1000
    },
    "id": "2DTKQFf1kkyc",
    "outputId": "3de76fc1-f8ac-4129-bdc3-b49a24f56af6"
   },
   "outputs": [
    {
     "name": "stdout",
     "output_type": "stream",
     "text": [
      "Epoch 1/30\n",
      "625/625 - 4s - loss: 0.5254 - accuracy: 0.7308 - val_loss: 0.3797 - val_accuracy: 0.8354\n",
      "Epoch 2/30\n",
      "625/625 - 4s - loss: 0.2873 - accuracy: 0.8836 - val_loss: 0.3394 - val_accuracy: 0.8591\n",
      "Epoch 3/30\n",
      "625/625 - 4s - loss: 0.2132 - accuracy: 0.9164 - val_loss: 0.3522 - val_accuracy: 0.8524\n",
      "Epoch 4/30\n",
      "625/625 - 4s - loss: 0.1699 - accuracy: 0.9370 - val_loss: 0.3813 - val_accuracy: 0.8515\n",
      "Epoch 5/30\n",
      "625/625 - 4s - loss: 0.1382 - accuracy: 0.9498 - val_loss: 0.4233 - val_accuracy: 0.8445\n",
      "Epoch 6/30\n",
      "625/625 - 4s - loss: 0.1159 - accuracy: 0.9592 - val_loss: 0.4698 - val_accuracy: 0.8378\n",
      "Epoch 7/30\n",
      "625/625 - 4s - loss: 0.0994 - accuracy: 0.9662 - val_loss: 0.5298 - val_accuracy: 0.8334\n",
      "Epoch 8/30\n",
      "625/625 - 4s - loss: 0.0837 - accuracy: 0.9716 - val_loss: 0.5711 - val_accuracy: 0.8347\n",
      "Epoch 9/30\n",
      "625/625 - 4s - loss: 0.0711 - accuracy: 0.9773 - val_loss: 0.6352 - val_accuracy: 0.8289\n",
      "Epoch 10/30\n",
      "625/625 - 4s - loss: 0.0614 - accuracy: 0.9797 - val_loss: 0.6854 - val_accuracy: 0.8258\n",
      "Epoch 11/30\n",
      "625/625 - 4s - loss: 0.0528 - accuracy: 0.9837 - val_loss: 0.7519 - val_accuracy: 0.8202\n",
      "Epoch 12/30\n",
      "625/625 - 4s - loss: 0.0458 - accuracy: 0.9861 - val_loss: 0.8187 - val_accuracy: 0.8202\n",
      "Epoch 13/30\n",
      "625/625 - 4s - loss: 0.0394 - accuracy: 0.9880 - val_loss: 0.9011 - val_accuracy: 0.8152\n",
      "Epoch 14/30\n",
      "625/625 - 4s - loss: 0.0347 - accuracy: 0.9894 - val_loss: 0.9505 - val_accuracy: 0.8155\n",
      "Epoch 15/30\n",
      "625/625 - 4s - loss: 0.0313 - accuracy: 0.9906 - val_loss: 1.0168 - val_accuracy: 0.8135\n",
      "Epoch 16/30\n",
      "625/625 - 4s - loss: 0.0275 - accuracy: 0.9914 - val_loss: 1.0728 - val_accuracy: 0.8085\n",
      "Epoch 17/30\n",
      "625/625 - 4s - loss: 0.0257 - accuracy: 0.9923 - val_loss: 1.1366 - val_accuracy: 0.8085\n",
      "Epoch 18/30\n",
      "625/625 - 4s - loss: 0.0206 - accuracy: 0.9948 - val_loss: 1.1967 - val_accuracy: 0.8052\n",
      "Epoch 19/30\n",
      "625/625 - 4s - loss: 0.0184 - accuracy: 0.9947 - val_loss: 1.2711 - val_accuracy: 0.8061\n",
      "Epoch 20/30\n",
      "625/625 - 4s - loss: 0.0180 - accuracy: 0.9948 - val_loss: 1.3537 - val_accuracy: 0.8052\n",
      "Epoch 21/30\n",
      "625/625 - 4s - loss: 0.0157 - accuracy: 0.9956 - val_loss: 1.4319 - val_accuracy: 0.8055\n",
      "Epoch 22/30\n",
      "625/625 - 4s - loss: 0.0152 - accuracy: 0.9959 - val_loss: 1.4797 - val_accuracy: 0.8018\n",
      "Epoch 23/30\n",
      "625/625 - 4s - loss: 0.0127 - accuracy: 0.9963 - val_loss: 1.5070 - val_accuracy: 0.8006\n",
      "Epoch 24/30\n",
      "625/625 - 4s - loss: 0.0131 - accuracy: 0.9958 - val_loss: 1.5691 - val_accuracy: 0.8022\n",
      "Epoch 25/30\n",
      "625/625 - 4s - loss: 0.0136 - accuracy: 0.9957 - val_loss: 1.6186 - val_accuracy: 0.8047\n",
      "Epoch 26/30\n",
      "625/625 - 4s - loss: 0.0112 - accuracy: 0.9966 - val_loss: 1.6554 - val_accuracy: 0.8021\n",
      "Epoch 27/30\n",
      "625/625 - 4s - loss: 0.0099 - accuracy: 0.9967 - val_loss: 1.7816 - val_accuracy: 0.8012\n",
      "Epoch 28/30\n",
      "625/625 - 4s - loss: 0.0098 - accuracy: 0.9970 - val_loss: 1.7532 - val_accuracy: 0.8000\n",
      "Epoch 29/30\n",
      "625/625 - 4s - loss: 0.0080 - accuracy: 0.9973 - val_loss: 1.8171 - val_accuracy: 0.7986\n",
      "Epoch 30/30\n",
      "625/625 - 4s - loss: 0.0083 - accuracy: 0.9973 - val_loss: 1.9600 - val_accuracy: 0.8004\n"
     ]
    }
   ],
   "source": [
    "num_epochs = 30\n",
    "history = model.fit(training_padded, training_labels, epochs=num_epochs, validation_data=(testing_padded, testing_labels), verbose=2)"
   ]
  },
  {
   "cell_type": "code",
   "execution_count": 107,
   "metadata": {
    "colab": {
     "base_uri": "https://localhost:8080/",
     "height": 541
    },
    "id": "2HYfBKXjkmU8",
    "outputId": "4ed6c86f-0765-4cd5-f93c-12ffc777476b"
   },
   "outputs": [
    {
     "data": {
      "image/png": "[encoded data removed]",
      "text/plain": [
       "<Figure size 432x288 with 1 Axes>"
      ]
     },
     "metadata": {
      "needs_background": "light",
      "tags": []
     },
     "output_type": "display_data"
    },
    {
     "data": {
      "image/png": "[encoded data removed]",
      "text/plain": [
       "<Figure size 432x288 with 1 Axes>"
      ]
     },
     "metadata": {
      "needs_background": "light",
      "tags": []
     },
     "output_type": "display_data"
    }
   ],
   "source": [
    "import matplotlib.pyplot as plt\n",
    "\n",
    "\n",
    "def plot_graphs(history, string):\n",
    "  plt.plot(history.history[string])\n",
    "  plt.plot(history.history['val_'+string])\n",
    "  plt.xlabel(\"Epochs\")\n",
    "  plt.ylabel(string)\n",
    "  plt.legend([string, 'val_'+string])\n",
    "  plt.show()\n",
    "  \n",
    "plot_graphs(history, \"accuracy\")\n",
    "plot_graphs(history, \"loss\")"
   ]
  },
  {
   "cell_type": "code",
   "execution_count": 108,
   "metadata": {
    "colab": {
     "base_uri": "https://localhost:8080/",
     "height": 72
    },
    "id": "7SBdAZAenvzL",
    "outputId": "dde4cfcc-ca35-4a4c-a327-e691a5a40627"
   },
   "outputs": [
    {
     "name": "stdout",
     "output_type": "stream",
     "text": [
      "former <OOV> store clerk sues over secret 'black <OOV> for minority shoppers ? ? ? ? ? ? ? ? ? ? ? ? ? ? ? ? ? ?\n",
      "mom starting to fear son's web series closest thing she will have to grandchild\n",
      "1\n"
     ]
    }
   ],
   "source": [
    "reverse_word_index = dict([(value, key) for (key, value) in word_index.items()])\n",
    "\n",
    "def decode_sentence(text):\n",
    "    return ' '.join([reverse_word_index.get(i, '?') for i in text])\n",
    "\n",
    "print(decode_sentence(training_padded[0]))\n",
    "print(training_sentences[2])\n",
    "print(labels[2])"
   ]
  },
  {
   "cell_type": "code",
   "execution_count": 109,
   "metadata": {
    "colab": {
     "base_uri": "https://localhost:8080/",
     "height": 35
    },
    "id": "c9MqihtEkzQ9",
    "outputId": "697d9cc6-8479-4d76-897e-9d70eea66753"
   },
   "outputs": [
    {
     "name": "stdout",
     "output_type": "stream",
     "text": [
      "(10000, 32)\n"
     ]
    }
   ],
   "source": [
    "e = model.layers[0]\n",
    "weights = e.get_weights()[0]\n",
    "print(weights.shape) # shape: (vocab_size, embedding_dim)\n"
   ]
  },
  {
   "cell_type": "code",
   "execution_count": 110,
   "metadata": {
    "id": "LoBXVffknldU"
   },
   "outputs": [],
   "source": [
    "import io\n",
    "\n",
    "out_v = io.open('vecs.tsv', 'w', encoding='utf-8')\n",
    "out_m = io.open('meta.tsv', 'w', encoding='utf-8')\n",
    "for word_num in range(1, vocab_size):\n",
    "  word = reverse_word_index[word_num]\n",
    "  embeddings = weights[word_num]\n",
    "  out_m.write(word + \"\\n\")\n",
    "  out_v.write('\\t'.join([str(x) for x in embeddings]) + \"\\n\")\n",
    "out_v.close()\n",
    "out_m.close()"
   ]
  },
  {
   "cell_type": "code",
   "execution_count": null,
   "metadata": {
    "id": "U4eZ5HtVnnEE"
   },
   "outputs": [],
   "source": [
    "try:\n",
    "  from google.colab import files\n",
    "except ImportError:\n",
    "  pass\n",
    "else:\n",
    "  files.download('vecs.tsv')\n",
    "  files.download('meta.tsv')"
   ]
  },
  {
   "cell_type": "code",
   "execution_count": 111,
   "metadata": {
    "colab": {
     "base_uri": "https://localhost:8080/",
     "height": 54
    },
    "id": "cG8-ArY-qDcz",
    "outputId": "742ec145-66ee-4a38-a707-9832ebd92869"
   },
   "outputs": [
    {
     "name": "stdout",
     "output_type": "stream",
     "text": [
      "[[9.8584104e-01]\n",
      " [3.0152886e-10]]\n"
     ]
    }
   ],
   "source": [
    "sentence = [\"granny starting to fear spiders in the garden might be real\", \"game of thrones season finale showing this sunday night\"]\n",
    "sequences = tokenizer.texts_to_sequences(sentence)\n",
    "padded = pad_sequences(sequences, maxlen=max_length, padding=padding_type, truncating=trunc_type)\n",
    "print(model.predict(padded))"
   ]
  },
  {
   "cell_type": "code",
   "execution_count": null,
   "metadata": {
    "id": "LmLuea70yU7V"
   },
   "outputs": [],
   "source": []
  }
 ],
 "metadata": {
  "accelerator": "GPU",
  "colab": {
   "collapsed_sections": [],
   "name": "Course 3 - Week 2 - Lesson 2.ipynb",
   "provenance": [],
   "toc_visible": true
  },
  "kernelspec": {
   "display_name": "Python 3",
   "language": "python",
   "name": "python3"
  },
  "language_info": {
   "codemirror_mode": {
    "name": "ipython",
    "version": 3
   },
   "file_extension": ".py",
   "mimetype": "text/x-python",
   "name": "python",
   "nbconvert_exporter": "python",
   "pygments_lexer": "ipython3",
   "version": "3.7.6"
  }
 },
 "nbformat": 4,
 "nbformat_minor": 1
}
