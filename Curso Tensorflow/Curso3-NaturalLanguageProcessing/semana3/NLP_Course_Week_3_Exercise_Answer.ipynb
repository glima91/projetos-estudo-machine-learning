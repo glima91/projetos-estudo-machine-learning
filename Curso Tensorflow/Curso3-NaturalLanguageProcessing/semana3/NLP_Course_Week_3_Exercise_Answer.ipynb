{
  "nbformat": 4,
  "nbformat_minor": 0,
  "metadata": {
    "accelerator": "GPU",
    "colab": {
      "name": "NLP Course - Week 3 Exercise Answer.ipynb",
      "provenance": [],
      "toc_visible": true
    },
    "kernelspec": {
      "display_name": "Python 3",
      "language": "python",
      "name": "python3"
    },
    "language_info": {
      "codemirror_mode": {
        "name": "ipython",
        "version": 3
      },
      "file_extension": ".py",
      "mimetype": "text/x-python",
      "name": "python",
      "nbconvert_exporter": "python",
      "pygments_lexer": "ipython3",
      "version": "3.7.6"
    }
  },
  "cells": [
    {
      "cell_type": "code",
      "metadata": {
        "id": "zX4Kg8DUTKWO"
      },
      "source": [
        "#@title Licensed under the Apache License, Version 2.0 (the \"License\");\n",
        "# you may not use this file except in compliance with the License.\n",
        "# You may obtain a copy of the License at\n",
        "#\n",
        "# https://www.apache.org/licenses/LICENSE-2.0\n",
        "#\n",
        "# Unless required by applicable law or agreed to in writing, software\n",
        "# distributed under the License is distributed on an \"AS IS\" BASIS,\n",
        "# WITHOUT WARRANTIES OR CONDITIONS OF ANY KIND, either express or implied.\n",
        "# See the License for the specific language governing permissions and\n",
        "# limitations under the License."
      ],
      "execution_count": null,
      "outputs": []
    },
    {
      "cell_type": "markdown",
      "metadata": {
        "id": "XpMtr8KhQfmo"
      },
      "source": [
        "<a href=\"https://colab.research.google.com/github/lmoroney/dlaicourse/blob/master/TensorFlow%20In%20Practice/Course%203%20-%20NLP/NLP%20Course%20-%20Week%203%20Exercise%20Answer.ipynb\" target=\"_parent\"><img src=\"https://colab.research.google.com/assets/colab-badge.svg\" alt=\"Open In Colab\"/></a>"
      ]
    },
    {
      "cell_type": "code",
      "metadata": {
        "id": "hmA6EzkQJ5jt"
      },
      "source": [
        "import json\n",
        "import tensorflow as tf\n",
        "import csv\n",
        "import random\n",
        "import numpy as np\n",
        "\n",
        "from tensorflow.keras.preprocessing.text import Tokenizer\n",
        "from tensorflow.keras.preprocessing.sequence import pad_sequences\n",
        "from tensorflow.keras.utils import to_categorical\n",
        "from tensorflow.keras import regularizers\n",
        "\n",
        "\n",
        "embedding_dim = 100\n",
        "max_length = 16\n",
        "trunc_type='post'\n",
        "padding_type='post'\n",
        "oov_tok = \"<OOV>\"\n",
        "training_size=160000\n",
        "test_portion=.1\n",
        "\n",
        "corpus = []\n"
      ],
      "execution_count": 1,
      "outputs": []
    },
    {
      "cell_type": "code",
      "metadata": {
        "id": "bM0l_dORKqE0",
        "outputId": "a2eefea1-84a1-42c9-8f22-d1101ad532d2",
        "colab": {
          "base_uri": "https://localhost:8080/",
          "height": 217
        }
      },
      "source": [
        "# Note that I cleaned the Stanford dataset to remove LATIN1 encoding to make it easier for Python CSV reader\n",
        "# You can do that yourself with:\n",
        "# iconv -f LATIN1 -t UTF8 training.1600000.processed.noemoticon.csv -o training_cleaned.csv\n",
        "# I then hosted it on my site to make it easier to use in this notebook\n",
        "\n",
        "!wget --no-check-certificate \\\n",
        "    https://storage.googleapis.com/laurencemoroney-blog.appspot.com/training_cleaned.csv \\\n",
        "    -O /tmp/training_cleaned.csv\n",
        "\n",
        "num_sentences = 0\n",
        "\n",
        "with open(\"/tmp/training_cleaned.csv\") as csvfile:\n",
        "    reader = csv.reader(csvfile, delimiter=',')\n",
        "    for row in reader:\n",
        "        list_item=[]\n",
        "        list_item.append(row[5])\n",
        "        this_label=row[0]\n",
        "        if this_label=='0':\n",
        "            list_item.append(0)\n",
        "        else:\n",
        "            list_item.append(1)\n",
        "        num_sentences = num_sentences + 1\n",
        "        corpus.append(list_item)\n"
      ],
      "execution_count": 2,
      "outputs": [
        {
          "output_type": "stream",
          "text": [
            "--2020-10-05 17:32:34--  https://storage.googleapis.com/laurencemoroney-blog.appspot.com/training_cleaned.csv\n",
            "Resolving storage.googleapis.com (storage.googleapis.com)... 173.194.79.128, 108.177.126.128, 172.217.218.128, ...\n",
            "Connecting to storage.googleapis.com (storage.googleapis.com)|173.194.79.128|:443... connected.\n",
            "HTTP request sent, awaiting response... 200 OK\n",
            "Length: 238942690 (228M) [application/octet-stream]\n",
            "Saving to: ‘/tmp/training_cleaned.csv’\n",
            "\n",
            "/tmp/training_clean 100%[===================>] 227.87M  48.7MB/s    in 4.7s    \n",
            "\n",
            "2020-10-05 17:32:39 (48.7 MB/s) - ‘/tmp/training_cleaned.csv’ saved [238942690/238942690]\n",
            "\n"
          ],
          "name": "stdout"
        }
      ]
    },
    {
      "cell_type": "code",
      "metadata": {
        "id": "3kxblBUjEUX-",
        "outputId": "0fbde3fb-bffa-43e3-901a-fc06a8289ff7",
        "colab": {
          "base_uri": "https://localhost:8080/",
          "height": 72
        }
      },
      "source": [
        "print(num_sentences)\n",
        "print(len(corpus))\n",
        "print(corpus[1])\n",
        "\n",
        "# Expected Output:\n",
        "# 1600000\n",
        "# 1600000\n",
        "# [\"is upset that he can't update his Facebook by texting it... and might cry as a result  School today also. Blah!\", 0]"
      ],
      "execution_count": 3,
      "outputs": [
        {
          "output_type": "stream",
          "text": [
            "1600000\n",
            "1600000\n",
            "[\"is upset that he can't update his Facebook by texting it... and might cry as a result  School today also. Blah!\", 0]\n"
          ],
          "name": "stdout"
        }
      ]
    },
    {
      "cell_type": "code",
      "metadata": {
        "id": "ohOGz24lsNAD"
      },
      "source": [
        "sentences=[]\n",
        "labels=[]\n",
        "random.shuffle(corpus)\n",
        "for x in range(training_size):\n",
        "    sentences.append(corpus[x][0])\n",
        "    labels.append(corpus[x][1])\n",
        "\n",
        "\n",
        "tokenizer = Tokenizer()\n",
        "tokenizer.fit_on_texts(sentences)\n",
        "\n",
        "word_index = tokenizer.word_index\n",
        "vocab_size=len(word_index)\n",
        "\n",
        "sequences = tokenizer.texts_to_sequences(sentences)\n",
        "padded = pad_sequences(sequences, maxlen=max_length, padding=padding_type, truncating=trunc_type)\n",
        "\n",
        "split = int(test_portion * training_size)\n",
        "\n",
        "test_sequences = padded[0:split]\n",
        "training_sequences = padded[split:training_size]\n",
        "test_labels = labels[0:split]\n",
        "training_labels = labels[split:training_size]"
      ],
      "execution_count": 4,
      "outputs": []
    },
    {
      "cell_type": "code",
      "metadata": {
        "id": "gIrtRem1En3N",
        "outputId": "0038b5ed-f951-46bb-bf5e-7630d05e0dfb",
        "colab": {
          "base_uri": "https://localhost:8080/",
          "height": 54
        }
      },
      "source": [
        "print(vocab_size)\n",
        "print(word_index['i'])\n",
        "# Expected Output\n",
        "# 138858\n",
        "# 1"
      ],
      "execution_count": 5,
      "outputs": [
        {
          "output_type": "stream",
          "text": [
            "138594\n",
            "1\n"
          ],
          "name": "stdout"
        }
      ]
    },
    {
      "cell_type": "code",
      "metadata": {
        "id": "C1zdgJkusRh0",
        "outputId": "c6cd7983-6e2e-4f4a-f797-0ae1b32b035a",
        "colab": {
          "base_uri": "https://localhost:8080/",
          "height": 217
        }
      },
      "source": [
        "# Note this is the 100 dimension version of GloVe from Stanford\n",
        "# I unzipped and hosted it on my site to make this notebook easier\n",
        "!wget --no-check-certificate \\\n",
        "    https://storage.googleapis.com/laurencemoroney-blog.appspot.com/glove.6B.100d.txt \\\n",
        "    -O /tmp/glove.6B.100d.txt\n",
        "embeddings_index = {};\n",
        "with open('/tmp/glove.6B.100d.txt') as f:\n",
        "    for line in f:\n",
        "        values = line.split();\n",
        "        word = values[0];\n",
        "        coefs = np.asarray(values[1:], dtype='float32');\n",
        "        embeddings_index[word] = coefs;\n",
        "\n",
        "embeddings_matrix = np.zeros((vocab_size+1, embedding_dim));\n",
        "for word, i in word_index.items():\n",
        "    embedding_vector = embeddings_index.get(word);\n",
        "    if embedding_vector is not None:\n",
        "        embeddings_matrix[i] = embedding_vector;"
      ],
      "execution_count": 6,
      "outputs": [
        {
          "output_type": "stream",
          "text": [
            "--2020-10-05 17:33:08--  https://storage.googleapis.com/laurencemoroney-blog.appspot.com/glove.6B.100d.txt\n",
            "Resolving storage.googleapis.com (storage.googleapis.com)... 173.194.79.128, 108.177.126.128, 172.217.218.128, ...\n",
            "Connecting to storage.googleapis.com (storage.googleapis.com)|173.194.79.128|:443... connected.\n",
            "HTTP request sent, awaiting response... 200 OK\n",
            "Length: 347116733 (331M) [text/plain]\n",
            "Saving to: ‘/tmp/glove.6B.100d.txt’\n",
            "\n",
            "/tmp/glove.6B.100d. 100%[===================>] 331.04M  50.0MB/s    in 6.6s    \n",
            "\n",
            "2020-10-05 17:33:15 (50.0 MB/s) - ‘/tmp/glove.6B.100d.txt’ saved [347116733/347116733]\n",
            "\n"
          ],
          "name": "stdout"
        }
      ]
    },
    {
      "cell_type": "code",
      "metadata": {
        "id": "71NLk_lpFLNt",
        "outputId": "322e3b08-7570-46bd-8686-e835040fe0cf",
        "colab": {
          "base_uri": "https://localhost:8080/",
          "height": 35
        }
      },
      "source": [
        "print(len(embeddings_matrix))\n",
        "# Expected Output\n",
        "# 138859"
      ],
      "execution_count": 7,
      "outputs": [
        {
          "output_type": "stream",
          "text": [
            "138595\n"
          ],
          "name": "stdout"
        }
      ]
    },
    {
      "cell_type": "code",
      "metadata": {
        "id": "iKKvbuEBOGFz",
        "outputId": "c9f2deec-064f-4682-a5c8-92030020fc8f",
        "colab": {
          "base_uri": "https://localhost:8080/",
          "height": 1000
        }
      },
      "source": [
        "model = tf.keras.Sequential([\n",
        "    tf.keras.layers.Embedding(vocab_size+1, embedding_dim, input_length=max_length, weights=[embeddings_matrix], trainable=False),\n",
        "    tf.keras.layers.Dropout(0.2),\n",
        "    tf.keras.layers.Conv1D(64, 5, activation='relu'),\n",
        "    tf.keras.layers.MaxPooling1D(pool_size=4),\n",
        "    tf.keras.layers.LSTM(64),\n",
        "    tf.keras.layers.Dense(1, activation='sigmoid')\n",
        "])\n",
        "model.compile(loss='binary_crossentropy',optimizer='adam',metrics=['accuracy'])\n",
        "model.summary()\n",
        "\n",
        "num_epochs = 50\n",
        "\n",
        "training_padded = np.array(training_sequences)\n",
        "training_labels = np.array(training_labels)\n",
        "testing_padded = np.array(test_sequences)\n",
        "testing_labels = np.array(test_labels)\n",
        "\n",
        "history = model.fit(training_padded, training_labels, epochs=num_epochs, validation_data=(testing_padded, testing_labels), verbose=2)\n",
        "\n",
        "print(\"Training Complete\")"
      ],
      "execution_count": 8,
      "outputs": [
        {
          "output_type": "stream",
          "text": [
            "Model: \"sequential\"\n",
            "_________________________________________________________________\n",
            "Layer (type)                 Output Shape              Param #   \n",
            "=================================================================\n",
            "embedding (Embedding)        (None, 16, 100)           13859500  \n",
            "_________________________________________________________________\n",
            "dropout (Dropout)            (None, 16, 100)           0         \n",
            "_________________________________________________________________\n",
            "conv1d (Conv1D)              (None, 12, 64)            32064     \n",
            "_________________________________________________________________\n",
            "max_pooling1d (MaxPooling1D) (None, 3, 64)             0         \n",
            "_________________________________________________________________\n",
            "lstm (LSTM)                  (None, 64)                33024     \n",
            "_________________________________________________________________\n",
            "dense (Dense)                (None, 1)                 65        \n",
            "=================================================================\n",
            "Total params: 13,924,653\n",
            "Trainable params: 65,153\n",
            "Non-trainable params: 13,859,500\n",
            "_________________________________________________________________\n",
            "Epoch 1/50\n",
            "4500/4500 - 15s - loss: 0.5686 - accuracy: 0.6985 - val_loss: 0.5249 - val_accuracy: 0.7331\n",
            "Epoch 2/50\n",
            "4500/4500 - 15s - loss: 0.5279 - accuracy: 0.7300 - val_loss: 0.5239 - val_accuracy: 0.7309\n",
            "Epoch 3/50\n",
            "4500/4500 - 15s - loss: 0.5120 - accuracy: 0.7421 - val_loss: 0.5089 - val_accuracy: 0.7463\n",
            "Epoch 4/50\n",
            "4500/4500 - 15s - loss: 0.4997 - accuracy: 0.7520 - val_loss: 0.5044 - val_accuracy: 0.7490\n",
            "Epoch 5/50\n",
            "4500/4500 - 15s - loss: 0.4915 - accuracy: 0.7575 - val_loss: 0.5068 - val_accuracy: 0.7518\n",
            "Epoch 6/50\n",
            "4500/4500 - 15s - loss: 0.4836 - accuracy: 0.7622 - val_loss: 0.5019 - val_accuracy: 0.7517\n",
            "Epoch 7/50\n",
            "4500/4500 - 15s - loss: 0.4784 - accuracy: 0.7648 - val_loss: 0.5054 - val_accuracy: 0.7469\n",
            "Epoch 8/50\n",
            "4500/4500 - 15s - loss: 0.4734 - accuracy: 0.7675 - val_loss: 0.5014 - val_accuracy: 0.7526\n",
            "Epoch 9/50\n",
            "4500/4500 - 15s - loss: 0.4684 - accuracy: 0.7718 - val_loss: 0.4994 - val_accuracy: 0.7548\n",
            "Epoch 10/50\n",
            "4500/4500 - 15s - loss: 0.4644 - accuracy: 0.7740 - val_loss: 0.5054 - val_accuracy: 0.7504\n",
            "Epoch 11/50\n",
            "4500/4500 - 15s - loss: 0.4617 - accuracy: 0.7764 - val_loss: 0.5048 - val_accuracy: 0.7492\n",
            "Epoch 12/50\n",
            "4500/4500 - 15s - loss: 0.4591 - accuracy: 0.7782 - val_loss: 0.5066 - val_accuracy: 0.7504\n",
            "Epoch 13/50\n",
            "4500/4500 - 15s - loss: 0.4551 - accuracy: 0.7797 - val_loss: 0.5032 - val_accuracy: 0.7498\n",
            "Epoch 14/50\n",
            "4500/4500 - 15s - loss: 0.4529 - accuracy: 0.7806 - val_loss: 0.5071 - val_accuracy: 0.7502\n",
            "Epoch 15/50\n",
            "4500/4500 - 15s - loss: 0.4515 - accuracy: 0.7827 - val_loss: 0.5048 - val_accuracy: 0.7518\n",
            "Epoch 16/50\n",
            "4500/4500 - 16s - loss: 0.4491 - accuracy: 0.7823 - val_loss: 0.5071 - val_accuracy: 0.7542\n",
            "Epoch 17/50\n",
            "4500/4500 - 16s - loss: 0.4471 - accuracy: 0.7834 - val_loss: 0.5127 - val_accuracy: 0.7461\n",
            "Epoch 18/50\n",
            "4500/4500 - 15s - loss: 0.4466 - accuracy: 0.7848 - val_loss: 0.5099 - val_accuracy: 0.7498\n",
            "Epoch 19/50\n",
            "4500/4500 - 15s - loss: 0.4449 - accuracy: 0.7851 - val_loss: 0.5105 - val_accuracy: 0.7462\n",
            "Epoch 20/50\n",
            "4500/4500 - 15s - loss: 0.4448 - accuracy: 0.7855 - val_loss: 0.5088 - val_accuracy: 0.7500\n",
            "Epoch 21/50\n",
            "4500/4500 - 15s - loss: 0.4426 - accuracy: 0.7880 - val_loss: 0.5124 - val_accuracy: 0.7490\n",
            "Epoch 22/50\n",
            "4500/4500 - 16s - loss: 0.4408 - accuracy: 0.7900 - val_loss: 0.5140 - val_accuracy: 0.7489\n",
            "Epoch 23/50\n",
            "4500/4500 - 15s - loss: 0.4397 - accuracy: 0.7889 - val_loss: 0.5180 - val_accuracy: 0.7479\n",
            "Epoch 24/50\n",
            "4500/4500 - 16s - loss: 0.4386 - accuracy: 0.7898 - val_loss: 0.5113 - val_accuracy: 0.7481\n",
            "Epoch 25/50\n",
            "4500/4500 - 16s - loss: 0.4380 - accuracy: 0.7904 - val_loss: 0.5143 - val_accuracy: 0.7483\n",
            "Epoch 26/50\n",
            "4500/4500 - 16s - loss: 0.4364 - accuracy: 0.7912 - val_loss: 0.5119 - val_accuracy: 0.7492\n",
            "Epoch 27/50\n",
            "4500/4500 - 16s - loss: 0.4358 - accuracy: 0.7913 - val_loss: 0.5169 - val_accuracy: 0.7477\n",
            "Epoch 28/50\n",
            "4500/4500 - 16s - loss: 0.4349 - accuracy: 0.7923 - val_loss: 0.5178 - val_accuracy: 0.7498\n",
            "Epoch 29/50\n",
            "4500/4500 - 15s - loss: 0.4348 - accuracy: 0.7925 - val_loss: 0.5122 - val_accuracy: 0.7497\n",
            "Epoch 30/50\n",
            "4500/4500 - 16s - loss: 0.4346 - accuracy: 0.7913 - val_loss: 0.5096 - val_accuracy: 0.7488\n",
            "Epoch 31/50\n",
            "4500/4500 - 16s - loss: 0.4342 - accuracy: 0.7927 - val_loss: 0.5180 - val_accuracy: 0.7520\n",
            "Epoch 32/50\n",
            "4500/4500 - 15s - loss: 0.4322 - accuracy: 0.7945 - val_loss: 0.5156 - val_accuracy: 0.7474\n",
            "Epoch 33/50\n",
            "4500/4500 - 16s - loss: 0.4321 - accuracy: 0.7951 - val_loss: 0.5186 - val_accuracy: 0.7487\n",
            "Epoch 34/50\n",
            "4500/4500 - 16s - loss: 0.4326 - accuracy: 0.7942 - val_loss: 0.5148 - val_accuracy: 0.7513\n",
            "Epoch 35/50\n",
            "4500/4500 - 15s - loss: 0.4324 - accuracy: 0.7936 - val_loss: 0.5158 - val_accuracy: 0.7464\n",
            "Epoch 36/50\n",
            "4500/4500 - 16s - loss: 0.4326 - accuracy: 0.7939 - val_loss: 0.5205 - val_accuracy: 0.7468\n",
            "Epoch 37/50\n",
            "4500/4500 - 16s - loss: 0.4316 - accuracy: 0.7949 - val_loss: 0.5220 - val_accuracy: 0.7476\n",
            "Epoch 38/50\n",
            "4500/4500 - 16s - loss: 0.4301 - accuracy: 0.7955 - val_loss: 0.5213 - val_accuracy: 0.7480\n",
            "Epoch 39/50\n",
            "4500/4500 - 16s - loss: 0.4316 - accuracy: 0.7940 - val_loss: 0.5189 - val_accuracy: 0.7473\n",
            "Epoch 40/50\n",
            "4500/4500 - 16s - loss: 0.4311 - accuracy: 0.7939 - val_loss: 0.5162 - val_accuracy: 0.7477\n",
            "Epoch 41/50\n",
            "4500/4500 - 16s - loss: 0.4291 - accuracy: 0.7959 - val_loss: 0.5172 - val_accuracy: 0.7490\n",
            "Epoch 42/50\n",
            "4500/4500 - 16s - loss: 0.4270 - accuracy: 0.7969 - val_loss: 0.5253 - val_accuracy: 0.7479\n",
            "Epoch 43/50\n",
            "4500/4500 - 16s - loss: 0.4291 - accuracy: 0.7957 - val_loss: 0.5215 - val_accuracy: 0.7455\n",
            "Epoch 44/50\n",
            "4500/4500 - 16s - loss: 0.4278 - accuracy: 0.7972 - val_loss: 0.5278 - val_accuracy: 0.7453\n",
            "Epoch 45/50\n",
            "4500/4500 - 16s - loss: 0.4276 - accuracy: 0.7964 - val_loss: 0.5238 - val_accuracy: 0.7476\n",
            "Epoch 46/50\n",
            "4500/4500 - 16s - loss: 0.4284 - accuracy: 0.7969 - val_loss: 0.5225 - val_accuracy: 0.7459\n",
            "Epoch 47/50\n",
            "4500/4500 - 15s - loss: 0.4272 - accuracy: 0.7971 - val_loss: 0.5311 - val_accuracy: 0.7479\n",
            "Epoch 48/50\n",
            "4500/4500 - 16s - loss: 0.4277 - accuracy: 0.7972 - val_loss: 0.5190 - val_accuracy: 0.7448\n",
            "Epoch 49/50\n",
            "4500/4500 - 15s - loss: 0.4269 - accuracy: 0.7968 - val_loss: 0.5204 - val_accuracy: 0.7459\n",
            "Epoch 50/50\n",
            "4500/4500 - 15s - loss: 0.4266 - accuracy: 0.7978 - val_loss: 0.5235 - val_accuracy: 0.7450\n",
            "Training Complete\n"
          ],
          "name": "stdout"
        }
      ]
    },
    {
      "cell_type": "code",
      "metadata": {
        "id": "qxju4ItJKO8F",
        "outputId": "00ea2a52-d0d0-4769-a372-04a990a4a9d6",
        "colab": {
          "base_uri": "https://localhost:8080/",
          "height": 609
        }
      },
      "source": [
        "import matplotlib.image  as mpimg\n",
        "import matplotlib.pyplot as plt\n",
        "\n",
        "#-----------------------------------------------------------\n",
        "# Retrieve a list of list results on training and test data\n",
        "# sets for each training epoch\n",
        "#-----------------------------------------------------------\n",
        "acc=history.history['accuracy']\n",
        "val_acc=history.history['val_accuracy']\n",
        "loss=history.history['loss']\n",
        "val_loss=history.history['val_loss']\n",
        "\n",
        "epochs=range(len(acc)) # Get number of epochs\n",
        "\n",
        "#------------------------------------------------\n",
        "# Plot training and validation accuracy per epoch\n",
        "#------------------------------------------------\n",
        "plt.plot(epochs, acc, 'r')\n",
        "plt.plot(epochs, val_acc, 'b')\n",
        "plt.title('Training and validation accuracy')\n",
        "plt.xlabel(\"Epochs\")\n",
        "plt.ylabel(\"Accuracy\")\n",
        "plt.legend([\"Accuracy\", \"Validation Accuracy\"])\n",
        "\n",
        "plt.figure()\n",
        "\n",
        "#------------------------------------------------\n",
        "# Plot training and validation loss per epoch\n",
        "#------------------------------------------------\n",
        "plt.plot(epochs, loss, 'r')\n",
        "plt.plot(epochs, val_loss, 'b')\n",
        "plt.title('Training and validation loss')\n",
        "plt.xlabel(\"Epochs\")\n",
        "plt.ylabel(\"Loss\")\n",
        "plt.legend([\"Loss\", \"Validation Loss\"])\n",
        "\n",
        "plt.figure()\n",
        "\n",
        "\n",
        "# Expected Output\n",
        "# A chart where the validation loss does not increase sharply!"
      ],
      "execution_count": 9,
      "outputs": [
        {
          "output_type": "execute_result",
          "data": {
            "text/plain": [
              "<Figure size 432x288 with 0 Axes>"
            ]
          },
          "metadata": {
            "tags": []
          },
          "execution_count": 9
        },
        {
          "output_type": "display_data",
          "data": {
            "image/png": "[encoded data removed]",
            "text/plain": [
              "<Figure size 432x288 with 1 Axes>"
            ]
          },
          "metadata": {
            "tags": [],
            "needs_background": "light"
          }
        },
        {
          "output_type": "display_data",
          "data": {
            "image/png": "[encoded data removed]",
            "text/plain": [
              "<Figure size 432x288 with 1 Axes>"
            ]
          },
          "metadata": {
            "tags": [],
            "needs_background": "light"
          }
        },
        {
          "output_type": "display_data",
          "data": {
            "text/plain": [
              "<Figure size 432x288 with 0 Axes>"
            ]
          },
          "metadata": {
            "tags": []
          }
        }
      ]
    }
  ]
}